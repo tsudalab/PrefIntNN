{
 "cells": [
  {
   "cell_type": "markdown",
   "id": "53a9eacf",
   "metadata": {},
   "source": [
    "# Neural Network Hyperparameters Tuning"
   ]
  },
  {
   "cell_type": "markdown",
   "id": "ed7a04de",
   "metadata": {},
   "source": [
    "The optimization is performed by optuna Tool. To intall the package, run:    \n",
    "    conda install -c conda-forge optuna"
   ]
  },
  {
   "cell_type": "markdown",
   "id": "af560d6a",
   "metadata": {},
   "source": [
    "Define your own hyperparams range for search, number of epochs, trials, timeout.     \n",
    "The results are saved in model/hyperparams.txt    \n",
    "NDCG score is the target to optimize.    "
   ]
  },
  {
   "cell_type": "code",
   "execution_count": 1,
   "id": "f57ceb2e",
   "metadata": {
    "scrolled": false
   },
   "outputs": [
    {
     "name": "stderr",
     "output_type": "stream",
     "text": [
      "\u001b[32m[I 2022-05-09 16:24:20,737]\u001b[0m A new study created in memory with name: no-name-cb1b520a-01a6-41d3-9979-b6c4f370e187\u001b[0m\n"
     ]
    },
    {
     "name": "stdout",
     "output_type": "stream",
     "text": [
      "The number of identical assay group is: 1\n",
      "The length of total prefs is: 2271\n",
      "The number of identical assay group is: 1\n",
      "The length of total prefs is: 136\n"
     ]
    },
    {
     "name": "stderr",
     "output_type": "stream",
     "text": [
      "100%|███████████████████████████████████████████████████████████████████████████████████| 50/50 [01:08<00:00,  1.38s/it]\n",
      "\u001b[32m[I 2022-05-09 16:25:29,680]\u001b[0m Trial 0 finished with value: 0.7754672897662255 and parameters: {'n_layers': 3, 'n_units_l0': 494, 'dropout_l0': 0.26042267337916025, 'n_units_l1': 583, 'dropout_l1': 0.17715939863272323, 'n_units_l2': 595, 'dropout_l2': 0.010799750717617984, 'optimizer': 'SGD', 'lr': 0.07045696238908997, 'batchsize': 32}. Best is trial 0 with value: 0.7754672897662255.\u001b[0m\n",
      "100%|███████████████████████████████████████████████████████████████████████████████████| 50/50 [00:37<00:00,  1.33it/s]\n",
      "\u001b[32m[I 2022-05-09 16:26:07,377]\u001b[0m Trial 1 finished with value: 0.619260914526732 and parameters: {'n_layers': 3, 'n_units_l0': 139, 'dropout_l0': 0.12143768331400687, 'n_units_l1': 944, 'dropout_l1': 0.3982707050829934, 'n_units_l2': 650, 'dropout_l2': 0.3583399454199594, 'optimizer': 'SGD', 'lr': 7.656444460034353e-05, 'batchsize': 64}. Best is trial 0 with value: 0.7754672897662255.\u001b[0m\n",
      "100%|███████████████████████████████████████████████████████████████████████████████████| 50/50 [00:44<00:00,  1.13it/s]\n",
      "\u001b[32m[I 2022-05-09 16:26:51,749]\u001b[0m Trial 2 finished with value: 0.5601557800260516 and parameters: {'n_layers': 1, 'n_units_l0': 417, 'dropout_l0': 0.07632380340501954, 'optimizer': 'SGD', 'lr': 0.0006502423028837725, 'batchsize': 16}. Best is trial 0 with value: 0.7754672897662255.\u001b[0m\n",
      "100%|███████████████████████████████████████████████████████████████████████████████████| 50/50 [00:35<00:00,  1.39it/s]\n",
      "\u001b[32m[I 2022-05-09 16:27:27,750]\u001b[0m Trial 3 finished with value: 0.7699438877169597 and parameters: {'n_layers': 3, 'n_units_l0': 684, 'dropout_l0': 0.14935994860037669, 'n_units_l1': 435, 'dropout_l1': 0.2539077793256947, 'n_units_l2': 137, 'dropout_l2': 0.0445915003645478, 'optimizer': 'Adam', 'lr': 0.0007891834421445854, 'batchsize': 128}. Best is trial 0 with value: 0.7754672897662255.\u001b[0m\n",
      "100%|███████████████████████████████████████████████████████████████████████████████████| 50/50 [00:58<00:00,  1.17s/it]\n",
      "\u001b[32m[I 2022-05-09 16:28:26,215]\u001b[0m Trial 4 finished with value: 0.7719900104125871 and parameters: {'n_layers': 3, 'n_units_l0': 612, 'dropout_l0': 0.1816230031216164, 'n_units_l1': 293, 'dropout_l1': 0.11124002682839335, 'n_units_l2': 706, 'dropout_l2': 0.1743349695682675, 'optimizer': 'SGD', 'lr': 0.061125699886901676, 'batchsize': 16}. Best is trial 0 with value: 0.7754672897662255.\u001b[0m\n",
      "  0%|                                                                                            | 0/50 [00:00<?, ?it/s]\n",
      "\u001b[32m[I 2022-05-09 16:28:27,151]\u001b[0m Trial 5 pruned. \u001b[0m\n",
      "  0%|                                                                                            | 0/50 [00:00<?, ?it/s]\n",
      "\u001b[32m[I 2022-05-09 16:28:27,732]\u001b[0m Trial 6 pruned. \u001b[0m\n",
      "  0%|                                                                                            | 0/50 [00:00<?, ?it/s]\n",
      "\u001b[32m[I 2022-05-09 16:28:28,356]\u001b[0m Trial 7 pruned. \u001b[0m\n",
      "  4%|███▎                                                                                | 2/50 [00:01<00:41,  1.15it/s]\n",
      "\u001b[32m[I 2022-05-09 16:28:30,098]\u001b[0m Trial 8 pruned. \u001b[0m\n",
      "100%|███████████████████████████████████████████████████████████████████████████████████| 50/50 [00:55<00:00,  1.10s/it]\n",
      "\u001b[32m[I 2022-05-09 16:29:25,192]\u001b[0m Trial 9 finished with value: 0.768151053602697 and parameters: {'n_layers': 1, 'n_units_l0': 575, 'dropout_l0': 0.3493090887735786, 'optimizer': 'Adam', 'lr': 0.05041627481661103, 'batchsize': 16}. Best is trial 0 with value: 0.7754672897662255.\u001b[0m\n",
      "  0%|                                                                                            | 0/50 [00:00<?, ?it/s]\n",
      "\u001b[32m[I 2022-05-09 16:29:25,932]\u001b[0m Trial 10 pruned. \u001b[0m\n",
      "  0%|                                                                                            | 0/50 [00:00<?, ?it/s]\n",
      "\u001b[32m[I 2022-05-09 16:29:26,880]\u001b[0m Trial 11 pruned. \u001b[0m\n",
      "  0%|                                                                                            | 0/50 [00:00<?, ?it/s]\n",
      "\u001b[32m[I 2022-05-09 16:29:27,897]\u001b[0m Trial 12 pruned. \u001b[0m\n",
      "  0%|                                                                                            | 0/50 [00:01<?, ?it/s]\n",
      "\u001b[32m[I 2022-05-09 16:29:28,950]\u001b[0m Trial 13 pruned. \u001b[0m\n",
      "  0%|                                                                                            | 0/50 [00:00<?, ?it/s]\n",
      "\u001b[32m[I 2022-05-09 16:29:29,586]\u001b[0m Trial 14 pruned. \u001b[0m\n",
      "  2%|█▋                                                                                  | 1/50 [00:01<01:12,  1.48s/it]\n",
      "\u001b[32m[I 2022-05-09 16:29:31,113]\u001b[0m Trial 15 pruned. \u001b[0m\n",
      "  4%|███▎                                                                                | 2/50 [00:02<00:49,  1.03s/it]\n",
      "\u001b[32m[I 2022-05-09 16:29:33,207]\u001b[0m Trial 16 pruned. \u001b[0m\n",
      "  0%|                                                                                            | 0/50 [00:00<?, ?it/s]\n",
      "\u001b[32m[I 2022-05-09 16:29:34,079]\u001b[0m Trial 17 pruned. \u001b[0m\n",
      "100%|███████████████████████████████████████████████████████████████████████████████████| 50/50 [01:02<00:00,  1.26s/it]\n",
      "\u001b[32m[I 2022-05-09 16:30:37,003]\u001b[0m Trial 18 finished with value: 0.7761547646680175 and parameters: {'n_layers': 2, 'n_units_l0': 195, 'dropout_l0': 0.18367843353165392, 'n_units_l1': 702, 'dropout_l1': 0.3261385112727069, 'optimizer': 'Adam', 'lr': 0.0017381438595038166, 'batchsize': 16}. Best is trial 18 with value: 0.7761547646680175.\u001b[0m\n",
      "100%|███████████████████████████████████████████████████████████████████████████████████| 50/50 [00:44<00:00,  1.13it/s]\n",
      "\u001b[32m[I 2022-05-09 16:31:21,116]\u001b[0m Trial 19 finished with value: 0.7734703650227178 and parameters: {'n_layers': 2, 'n_units_l0': 189, 'dropout_l0': 0.23746170662578717, 'n_units_l1': 715, 'dropout_l1': 0.33171689332680987, 'optimizer': 'Adam', 'lr': 0.0016277819938487542, 'batchsize': 32}. Best is trial 18 with value: 0.7761547646680175.\u001b[0m\n",
      "100%|███████████████████████████████████████████████████████████████████████████████████| 50/50 [00:46<00:00,  1.07it/s]\n",
      "\u001b[32m[I 2022-05-09 16:32:07,983]\u001b[0m Trial 20 finished with value: 0.7694721489248747 and parameters: {'n_layers': 2, 'n_units_l0': 5, 'dropout_l0': 0.2702902407756266, 'n_units_l1': 892, 'dropout_l1': 0.3163951138992362, 'optimizer': 'Adam', 'lr': 2.0141882550078373e-05, 'batchsize': 16}. Best is trial 18 with value: 0.7761547646680175.\u001b[0m\n",
      "100%|███████████████████████████████████████████████████████████████████████████████████| 50/50 [00:45<00:00,  1.11it/s]\n",
      "\u001b[32m[I 2022-05-09 16:32:53,238]\u001b[0m Trial 21 finished with value: 0.769010676353273 and parameters: {'n_layers': 2, 'n_units_l0': 219, 'dropout_l0': 0.22544765103830797, 'n_units_l1': 724, 'dropout_l1': 0.3506563951923332, 'optimizer': 'Adam', 'lr': 0.002483402776450384, 'batchsize': 32}. Best is trial 18 with value: 0.7761547646680175.\u001b[0m\n",
      "100%|███████████████████████████████████████████████████████████████████████████████████| 50/50 [00:44<00:00,  1.13it/s]\n",
      "\u001b[32m[I 2022-05-09 16:33:37,429]\u001b[0m Trial 22 finished with value: 0.7741883304251199 and parameters: {'n_layers': 2, 'n_units_l0': 197, 'dropout_l0': 0.33715540626959595, 'n_units_l1': 703, 'dropout_l1': 0.30662488240701535, 'optimizer': 'Adam', 'lr': 0.001597098103019488, 'batchsize': 32}. Best is trial 18 with value: 0.7761547646680175.\u001b[0m\n",
      "  0%|                                                                                            | 0/50 [00:00<?, ?it/s]\n",
      "\u001b[32m[I 2022-05-09 16:33:38,236]\u001b[0m Trial 23 pruned. \u001b[0m\n",
      "100%|███████████████████████████████████████████████████████████████████████████████████| 50/50 [00:44<00:00,  1.11it/s]\n",
      "\u001b[32m[I 2022-05-09 16:34:23,156]\u001b[0m Trial 24 finished with value: 0.7758962023318361 and parameters: {'n_layers': 2, 'n_units_l0': 274, 'dropout_l0': 0.35794738542024884, 'n_units_l1': 827, 'dropout_l1': 0.22004455851946528, 'optimizer': 'Adam', 'lr': 0.0004788198268726234, 'batchsize': 32}. Best is trial 18 with value: 0.7761547646680175.\u001b[0m\n",
      "  0%|                                                                                            | 0/50 [00:00<?, ?it/s]\n",
      "\u001b[32m[I 2022-05-09 16:34:23,784]\u001b[0m Trial 25 pruned. \u001b[0m\n"
     ]
    },
    {
     "name": "stderr",
     "output_type": "stream",
     "text": [
      "  0%|                                                                                            | 0/50 [00:00<?, ?it/s]\n",
      "\u001b[32m[I 2022-05-09 16:34:24,453]\u001b[0m Trial 26 pruned. \u001b[0m\n",
      "  0%|                                                                                            | 0/50 [00:00<?, ?it/s]\n",
      "\u001b[32m[I 2022-05-09 16:34:25,140]\u001b[0m Trial 27 pruned. \u001b[0m\n",
      "  0%|                                                                                            | 0/50 [00:01<?, ?it/s]\n",
      "\u001b[32m[I 2022-05-09 16:34:26,642]\u001b[0m Trial 28 pruned. \u001b[0m\n",
      "  0%|                                                                                            | 0/50 [00:00<?, ?it/s]\n",
      "\u001b[32m[I 2022-05-09 16:34:27,315]\u001b[0m Trial 29 pruned. \u001b[0m\n"
     ]
    },
    {
     "name": "stdout",
     "output_type": "stream",
     "text": [
      "Study statistics: \n",
      "  Number of finished trials:  30\n",
      "  Number of pruned trials:  18\n",
      "  Number of complete trials:  12\n",
      "Best trial:\n",
      "  Value:  0.7761547646680175\n",
      "  Params: \n",
      "    n_layers: 2\n",
      "    n_units_l0: 195\n",
      "    dropout_l0: 0.18367843353165392\n",
      "    n_units_l1: 702\n",
      "    dropout_l1: 0.3261385112727069\n",
      "    optimizer: Adam\n",
      "    lr: 0.0017381438595038166\n",
      "    batchsize: 16\n"
     ]
    }
   ],
   "source": [
    "%run DPDI/hyperparam_tuning_pair.py"
   ]
  },
  {
   "cell_type": "code",
   "execution_count": null,
   "id": "0ce57347",
   "metadata": {},
   "outputs": [],
   "source": []
  }
 ],
 "metadata": {
  "kernelspec": {
   "display_name": "Python 3",
   "language": "python",
   "name": "python3"
  },
  "language_info": {
   "codemirror_mode": {
    "name": "ipython",
    "version": 3
   },
   "file_extension": ".py",
   "mimetype": "text/x-python",
   "name": "python",
   "nbconvert_exporter": "python",
   "pygments_lexer": "ipython3",
   "version": "3.7.13"
  }
 },
 "nbformat": 4,
 "nbformat_minor": 5
}
